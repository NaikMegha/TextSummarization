{
 "cells": [
  {
   "cell_type": "code",
   "execution_count": 4,
   "metadata": {},
   "outputs": [
    {
     "name": "stderr",
     "output_type": "stream",
     "text": [
      "C:\\Users\\megha.naik\\AppData\\Local\\anaconda3\\lib\\site-packages\\gensim\\utils.py:1197: UserWarning: detected Windows; aliasing chunkize to chunkize_serial\n",
      "  warnings.warn(\"detected Windows; aliasing chunkize to chunkize_serial\")\n"
     ]
    }
   ],
   "source": [
    "import gensim \n"
   ]
  },
  {
   "cell_type": "code",
   "execution_count": 5,
   "metadata": {},
   "outputs": [],
   "source": [
    "content = \"Microsoft held talks in the past few weeks \" + \\\n",
    "    \"to acquire software developer platform GitHub, Business \" + \\\n",
    "    \"Insider reports. One person familiar with the discussions \" + \\\n",
    "    \"between the companies told CNBC that they had been \" + \\\n",
    "    \"considering a joint marketing partnership valued around \" + \\\n",
    "    \"$35 million, and that those discussions had progressed to \" + \\\n",
    "    \"a possible investment or outright acquisition. It is \" + \\\n",
    "    \"unclear whether talks are still ongoing, but this \" + \\\n",
    "    \"person said that GitHub's price for a full acquisition \" + \\\n",
    "    \"was more than Microsoft currently wanted to pay. GitHub \" + \\\n",
    "    \"was last valued at $2 billion in its last funding round \" + \\\n",
    "    \"2015, but the price tag for an acquisition could be $5 \" + \\\n",
    "    \"billion or more, based on a price that was floated \" + \\\n",
    "    \"last year. GitHub's tools have become essential to \" + \\\n",
    "    \"software developers, who use it to store code, \" + \\\n",
    "    \"keep track of updates and discuss issues. The privately \" + \\\n",
    "    \"held company has more than 23 million individual users in \" + \\\n",
    "    \"more than 1.5 million organizations. It was on track to \" + \\\n",
    "    \"book more than $200 million in subscription revenue, \" + \\\n",
    "    \"including more than $110 million from companies using its \" + \\\n",
    "    \"enterprise product, GitHub told CNBC last fall.Microsoft \" + \\\n",
    "    \"has reportedly flirted with buying GitHub in the past, \" + \\\n",
    "    \"including in 2016, although GitHub denied those \" + \\\n",
    "    \"reports. A partnership would give Microsoft another \" + \\\n",
    "    \"connection point to the developers it needs to court to \" + \\\n",
    "    \"build applications on its various platforms, including \" + \\\n",
    "    \"the Azure cloud. Microsoft could also use data from \" + \\\n",
    "    \"GitHub to improve its artificial intelligence \" + \\\n",
    "    \"producs. The talks come amid GitHub's struggle to \" + \\\n",
    "    \"replace CEO and founder Chris Wanstrath, who stepped \" + \\\n",
    "    \"down 10 months ago. Business Insider reported that \" + \\\n",
    "    \"Microsoft exec Nat Friedman -- who previously \" + \\\n",
    "    \"ran Xamarin, a developer tools start-up that Microsoft \" + \\\n",
    "    \"acquired in 2016 -- may take that CEO role. Google's \" + \\\n",
    "    \"senior VP of ads and commerce, Sridhar Ramaswamy, has \" + \\\n",
    "    \"also been in discussions for the job, says the report. \" + \\\n",
    "    \"Microsoft declined to comment on the report. \" + \\\n",
    "    \"GitHub did not immediately return a request for comment.\""
   ]
  },
  {
   "cell_type": "code",
   "execution_count": 6,
   "metadata": {},
   "outputs": [
    {
     "name": "stdout",
     "output_type": "stream",
     "text": [
      "Original Content:\n",
      "Microsoft held talks in the past few weeks to acquire software developer platform GitHub, Business Insider reports. One person familiar with the discussions between the companies told CNBC that they had been considering a joint marketing partnership valued around $35 million, and that those discussions had progressed to a possible investment or outright acquisition. It is unclear whether talks are still ongoing, but this person said that GitHub's price for a full acquisition was more than Microsoft currently wanted to pay. GitHub was last valued at $2 billion in its last funding round 2015, but the price tag for an acquisition could be $5 billion or more, based on a price that was floated last year. GitHub's tools have become essential to software developers, who use it to store code, keep track of updates and discuss issues. The privately held company has more than 23 million individual users in more than 1.5 million organizations. It was on track to book more than $200 million in subscription revenue, including more than $110 million from companies using its enterprise product, GitHub told CNBC last fall.Microsoft has reportedly flirted with buying GitHub in the past, including in 2016, although GitHub denied those reports. A partnership would give Microsoft another connection point to the developers it needs to court to build applications on its various platforms, including the Azure cloud. Microsoft could also use data from GitHub to improve its artificial intelligence producs. The talks come amid GitHub's struggle to replace CEO and founder Chris Wanstrath, who stepped down 10 months ago. Business Insider reported that Microsoft exec Nat Friedman -- who previously ran Xamarin, a developer tools start-up that Microsoft acquired in 2016 -- may take that CEO role. Google's senior VP of ads and commerce, Sridhar Ramaswamy, has also been in discussions for the job, says the report. Microsoft declined to comment on the report. GitHub did not immediately return a request for comment.\n",
      "\n",
      "---> Summarized Content (Ratio is 0.3):\n",
      "Microsoft held talks in the past few weeks to acquire software developer platform GitHub, Business Insider reports.\n",
      "One person familiar with the discussions between the companies told CNBC that they had been considering a joint marketing partnership valued around $35 million, and that those discussions had progressed to a possible investment or outright acquisition.\n",
      "It was on track to book more than $200 million in subscription revenue, including more than $110 million from companies using its enterprise product, GitHub told CNBC last fall.Microsoft has reportedly flirted with buying GitHub in the past, including in 2016, although GitHub denied those reports.\n",
      "Business Insider reported that Microsoft exec Nat Friedman -- who previously ran Xamarin, a developer tools start-up that Microsoft acquired in 2016 -- may take that CEO role.\n",
      "\n",
      "---> Summarized Content (Ratio is 0.5):\n",
      "Microsoft held talks in the past few weeks to acquire software developer platform GitHub, Business Insider reports.\n",
      "One person familiar with the discussions between the companies told CNBC that they had been considering a joint marketing partnership valued around $35 million, and that those discussions had progressed to a possible investment or outright acquisition.\n",
      "It is unclear whether talks are still ongoing, but this person said that GitHub's price for a full acquisition was more than Microsoft currently wanted to pay.\n",
      "GitHub's tools have become essential to software developers, who use it to store code, keep track of updates and discuss issues.\n",
      "It was on track to book more than $200 million in subscription revenue, including more than $110 million from companies using its enterprise product, GitHub told CNBC last fall.Microsoft has reportedly flirted with buying GitHub in the past, including in 2016, although GitHub denied those reports.\n",
      "Business Insider reported that Microsoft exec Nat Friedman -- who previously ran Xamarin, a developer tools start-up that Microsoft acquired in 2016 -- may take that CEO role.\n",
      "Microsoft declined to comment on the report.\n",
      "\n",
      "---> Summarized Content (Ratio is 0.7):\n",
      "Microsoft held talks in the past few weeks to acquire software developer platform GitHub, Business Insider reports.\n",
      "One person familiar with the discussions between the companies told CNBC that they had been considering a joint marketing partnership valued around $35 million, and that those discussions had progressed to a possible investment or outright acquisition.\n",
      "It is unclear whether talks are still ongoing, but this person said that GitHub's price for a full acquisition was more than Microsoft currently wanted to pay.\n",
      "GitHub's tools have become essential to software developers, who use it to store code, keep track of updates and discuss issues.\n",
      "The privately held company has more than 23 million individual users in more than 1.5 million organizations.\n",
      "It was on track to book more than $200 million in subscription revenue, including more than $110 million from companies using its enterprise product, GitHub told CNBC last fall.Microsoft has reportedly flirted with buying GitHub in the past, including in 2016, although GitHub denied those reports.\n",
      "A partnership would give Microsoft another connection point to the developers it needs to court to build applications on its various platforms, including the Azure cloud.\n",
      "Business Insider reported that Microsoft exec Nat Friedman -- who previously ran Xamarin, a developer tools start-up that Microsoft acquired in 2016 -- may take that CEO role.\n",
      "Microsoft declined to comment on the report.\n"
     ]
    }
   ],
   "source": [
    "print('Original Content:')\n",
    "print(content)\n",
    "for ratio in [0.3, 0.5, 0.7]:\n",
    "    summarized_content = gensim.summarization.summarize(content, ratio=ratio)\n",
    "    print()\n",
    "    print('---> Summarized Content (Ratio is %.1f):' % ratio)\n",
    "    print(summarized_content)"
   ]
  },
  {
   "cell_type": "markdown",
   "metadata": {},
   "source": [
    "According to gensim source code, at least 10 sentences is recommend for the input \n",
    "No training data or model building is required. \n",
    "It fits not only English but also any other a bag of input (Symbol, Japanese etc). "
   ]
  },
  {
   "cell_type": "code",
   "execution_count": 8,
   "metadata": {},
   "outputs": [
    {
     "name": "stdout",
     "output_type": "stream",
     "text": [
      "Original Content:\n",
      "Microsoft held talks in the past few weeks to acquire software developer platform GitHub, Business Insider reports. One person familiar with the discussions between the companies told CNBC that they had been considering a joint marketing partnership valued around $35 million, and that those discussions had progressed to a possible investment or outright acquisition. It is unclear whether talks are still ongoing, but this person said that GitHub's price for a full acquisition was more than Microsoft currently wanted to pay. GitHub was last valued at $2 billion in its last funding round 2015, but the price tag for an acquisition could be $5 billion or more, based on a price that was floated last year. GitHub's tools have become essential to software developers, who use it to store code, keep track of updates and discuss issues. The privately held company has more than 23 million individual users in more than 1.5 million organizations. It was on track to book more than $200 million in subscription revenue, including more than $110 million from companies using its enterprise product, GitHub told CNBC last fall.Microsoft has reportedly flirted with buying GitHub in the past, including in 2016, although GitHub denied those reports. A partnership would give Microsoft another connection point to the developers it needs to court to build applications on its various platforms, including the Azure cloud. Microsoft could also use data from GitHub to improve its artificial intelligence producs. The talks come amid GitHub's struggle to replace CEO and founder Chris Wanstrath, who stepped down 10 months ago. Business Insider reported that Microsoft exec Nat Friedman -- who previously ran Xamarin, a developer tools start-up that Microsoft acquired in 2016 -- may take that CEO role. Google's senior VP of ads and commerce, Sridhar Ramaswamy, has also been in discussions for the job, says the report. Microsoft declined to comment on the report. GitHub did not immediately return a request for comment.\n",
      "\n",
      "---> Summarized Content (Word Count is 10):\n",
      "Microsoft held talks in the past few weeks to acquire software developer platform GitHub, Business Insider reports.\n",
      "\n",
      "---> Summarized Content (Word Count is 30):\n",
      "Microsoft held talks in the past few weeks to acquire software developer platform GitHub, Business Insider reports.\n",
      "\n",
      "---> Summarized Content (Word Count is 50):\n",
      "Microsoft held talks in the past few weeks to acquire software developer platform GitHub, Business Insider reports.\n",
      "One person familiar with the discussions between the companies told CNBC that they had been considering a joint marketing partnership valued around $35 million, and that those discussions had progressed to a possible investment or outright acquisition.\n"
     ]
    }
   ],
   "source": [
    "print('Original Content:')\n",
    "print(content)\n",
    "for word_count in [10, 30, 50]:\n",
    "    summarized_content = gensim.summarization.summarize(content, word_count=word_count)\n",
    "    print()\n",
    "    print('---> Summarized Content (Word Count is %d):' % word_count)\n",
    "    print(summarized_content)"
   ]
  },
  {
   "cell_type": "code",
   "execution_count": null,
   "metadata": {},
   "outputs": [],
   "source": []
  }
 ],
 "metadata": {
  "kernelspec": {
   "display_name": "Python 3",
   "language": "python",
   "name": "python3"
  },
  "language_info": {
   "codemirror_mode": {
    "name": "ipython",
    "version": 3
   },
   "file_extension": ".py",
   "mimetype": "text/x-python",
   "name": "python",
   "nbconvert_exporter": "python",
   "pygments_lexer": "ipython3",
   "version": "3.7.3"
  }
 },
 "nbformat": 4,
 "nbformat_minor": 2
}
